{
 "cells": [
  {
   "cell_type": "code",
   "execution_count": 1,
   "metadata": {},
   "outputs": [],
   "source": [
    "import numpy as np\n",
    "import matplotlib.pyplot as plt\n",
    "import pandas as pd\n",
    "from matplotlib.font_manager import FontProperties\n",
    "from scipy import integrate\n",
    "from scipy import special\n",
    "from scipy import signal, interpolate\n",
    "\n",
    "import subprocess\n",
    "subprocess.run(['jupyter', 'nbconvert', '--to', 'python', 'constnumberfile.ipynb'])\n",
    "\n",
    "#physical constant     \n",
    "h=0.7010\n",
    "om=0.1408*h**(-2)\n",
    "ok=0\n",
    "ol=0.692\n",
    "ob=0.02205*h**(-2)\n",
    "odm=0.1187*h**(-2)\n",
    "H0m=100*h*1e3 #m s^-1 Mpc^-1                                                    \n",
    "H0=h/(3.085677*1e17) #s^-1   \n",
    "# critical density\n",
    "rc0=1.878*(1e-26)*(h**2) #kg/m^3  \n",
    "rc0MMpc=2.7753*1e11*h**2 # solar mass Mpc^{-3}\n",
    "mu=0.6\n",
    "G=6.67*1e-11     #m^3 kg^-1 s^-2                                                \n",
    "kb=1.38*1e-23    #J/K                                                           \n",
    "mp=1.67*1e-27   #kg                                                             \n",
    "A10=2.85*1e-15  #s^-1                                                           \n",
    "tf=0.068     #K                                                                 \n",
    "tcmb0=2.73\n",
    "YY=0.25\n",
    "mo=1.989*1e30   #kg                                                             \n",
    "c0=3.0*1e8          #m/s                                                        \n",
    "nu0=1420*1e6     #Hz \n",
    "kpc=3.0856*1e19 #kpc to m                                                       \n",
    "Mpc=3.0856*1e22 #Mpc to m                                                       \n",
    "deltac=1.68\n",
    "omrad=4.1577*1e-5*h**(-2)\n",
    "ns=0.965\n",
    "sigma8=0.811\n",
    "# observation parameter                                                         \n",
    "zobs=np.array([15,20,25]) #observed redshift                                    \n",
    "aobs=1/(1+zobs)\n",
    "Aff=48900 #m^2　望遠鏡の性能の指標                                              \n",
    "Dtheta=np.array([3,20])    # '　分解能                                          \n",
    "Dthetaradian=Dtheta*(1/60)*(np.pi/180) # radian 分解能                          \n",
    "Dnu=3        #MHz 望遠鏡の観測できる厚み？                                      \n",
    "tobs=np.array([100,1000])    #hour (observe time)                               \n",
    "#parameter                                                                                                         \n",
    "kgm_MMpc=1.47*1e28*1e9\n",
    "#cal constant                                                                   \n",
    "C=np.sqrt((5*kb)/(3*mp))\n",
    "zde=175 # decouping redshift                                                    \n",
    "tau0=(3.0*c0**2*A10*tf/(32.0*np.pi*nu0**2))\n",
    "#def Ros(z,A):\n",
    "    #Ros=A*(1+z)**3*om*rc0\n",
    "    #return Ros\n",
    "def Da(z):\n",
    "    Da=(c0/(H0m*(1+z)))*2*(1-(1/np.sqrt(1+z)))\n",
    "    return Da\n",
    "\n"
   ]
  },
  {
   "cell_type": "code",
   "execution_count": null,
   "metadata": {},
   "outputs": [],
   "source": []
  },
  {
   "cell_type": "code",
   "execution_count": null,
   "metadata": {},
   "outputs": [],
   "source": []
  }
 ],
 "metadata": {
  "kernelspec": {
   "display_name": "Python 3",
   "language": "python",
   "name": "python3"
  },
  "language_info": {
   "codemirror_mode": {
    "name": "ipython",
    "version": 3
   },
   "file_extension": ".py",
   "mimetype": "text/x-python",
   "name": "python",
   "nbconvert_exporter": "python",
   "pygments_lexer": "ipython3",
   "version": "3.7.3"
  }
 },
 "nbformat": 4,
 "nbformat_minor": 2
}
