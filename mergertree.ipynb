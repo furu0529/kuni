{
 "cells": [
  {
   "cell_type": "code",
   "execution_count": 1,
   "metadata": {},
   "outputs": [],
   "source": [
    "import numpy as np\n",
    "import random \n",
    "import matplotlib.pyplot as plt \n",
    "import camb\n",
    "import constnumberfile as cn\n",
    "from camb import model, initialpower\n",
    "from scipy import signal, interpolate, integrate\n",
    "import copy"
   ]
  },
  {
   "cell_type": "code",
   "execution_count": 2,
   "metadata": {},
   "outputs": [
    {
     "name": "stdout",
     "output_type": "stream",
     "text": [
      "Note: redshifts have been re-sorted (earliest first)\n"
     ]
    }
   ],
   "source": [
    "#make the power spectrum\n",
    "pars = camb.CAMBparams()\n",
    "pars.set_cosmology(H0=70.4, ombh2=0.022, omch2=0.122, mnu=0.06, omk=0, tau=0.06)\n",
    "pars.InitPower.set_params(As=2e-9, ns=0.965, r=0);\n",
    "pars.set_matter_power(redshifts=np.linspace(0,10,101), kmax=1e2)\n",
    "\n",
    "#Linear spectra\n",
    "pars.NonLinear = model.NonLinear_none\n",
    "results = camb.get_results(pars)\n",
    "kh, z, pk = results.get_matter_power_spectrum(minkh=1e-4, maxkh=1e2, npoints = 100)\n",
    "s8 = np.array(results.get_sigma8())\n",
    "#print(results.get_sigma8())"
   ]
  },
  {
   "cell_type": "code",
   "execution_count": 3,
   "metadata": {},
   "outputs": [],
   "source": [
    "#make the interpolation (ndpk is nondimensional power spectrum.)\n",
    "ndpk=pk*(kh[None,:]**3/(2*np.pi**2))\n",
    "f2 = interpolate.interp2d(kh,z, ndpk)\n",
    "#define the power spectrum function\n",
    "def PSz(kin,zin):\n",
    "    matterpower=f2(kin,zin)\n",
    "    return matterpower"
   ]
  },
  {
   "cell_type": "code",
   "execution_count": 4,
   "metadata": {},
   "outputs": [],
   "source": [
    "#make the function which calculate the tophat window function assigned the sphere area of structure formation\n",
    "def tophat(M):\n",
    "    k=np.logspace(-4,2,500)\n",
    "    R=(3*M*cn.mo/(4*np.pi*cn.om*cn.rc0))**(1/3)/cn.Mpc\n",
    "    kR=k[None,:]*R[:,None]\n",
    "    topwin=3*(np.sin(kR)-kR*np.cos(kR))/(kR)**3\n",
    "    return topwin,k\n",
    "\n",
    "#make the function which calculates the mass variance square S(M)\n",
    "def varips(M,z):\n",
    "    topwin,k=tophat(M)\n",
    "    #print(PSz(k,z).shape,topwin.shape,k.shape)\n",
    "    dvari=PSz(k,z)[None,:]*topwin**2/k[None,:]\n",
    "    #print(dvari.shape)\n",
    "    SM=integrate.simps(dvari,k[None,:],axis=1)\n",
    "    #diffSM=np.diff(SM)/np.diff(M)\n",
    "    return SM\n",
    "\n",
    "#make the function which calculates the mass variance S(M) \n",
    "# assign M[Msolar] , z(redshift)[nondim]\n",
    "def varipsapproximate(M,z):\n",
    "    M8=4/3 * np.pi * cn.om * cn.rc0MMpc * 8**3\n",
    "    #alpha=(cn.ns+3)/3\n",
    "    alpha=0.333\n",
    "    SM=cn.sigma8**2*(M/M8)**(-alpha)\n",
    "    #print(np.log10(M8))\n",
    "    return SM/(1+z)**2\n",
    "def varipsapproximatediffM(M,z):\n",
    "    M8=4/3 * np.pi * cn.om * cn.rc0MMpc * 8**3\n",
    "    alpha=(cn.ns+3)/3\n",
    "    alpha=0.333\n",
    "    SM=cn.sigma8**2*(M/M8)**(-alpha)\n",
    "    diffdSdM=alpha/M * SM\n",
    "    return diffdSdM/(1+z)**2\n",
    "\n",
    "def z_to_t(z):\n",
    "    t=2/(3*cn.H0*np.sqrt(cn.om))*(1+z)**(-3/2)\n",
    "    return t"
   ]
  },
  {
   "cell_type": "code",
   "execution_count": 5,
   "metadata": {},
   "outputs": [],
   "source": [
    "def ffu(z0,z1,M0,M1):\n",
    "    deltac=1.686\n",
    "    #introduce the mass variance square\n",
    "    vari0=varipsapproximate(M0,z0)\n",
    "    vari1=varipsapproximate(M1,z1)\n",
    "    coefficientterm=deltac*(z1-z0)/(np.sqrt(2*np.pi)*(abs(vari1-vari0))**(1.5))\n",
    "    expterm=np.exp(-(deltac*(z1-z0))**2/(2*(vari1-vari0)))\n",
    "    ffuterm=coefficientterm*expterm\n",
    "    return ffuterm"
   ]
  },
  {
   "cell_type": "code",
   "execution_count": 6,
   "metadata": {},
   "outputs": [],
   "source": [
    "#M1=np.logspace(10,13,1000)\n",
    "#plt.loglog(M1,ffu(0,1,1e15,M1))\n",
    "#print(integrate.simps(ffu(0,1,1e15,M1)))"
   ]
  },
  {
   "cell_type": "markdown",
   "metadata": {},
   "source": [
    "# Galaxy\n",
    "## section\n",
    "### sub\n",
    "\n",
    "\\begin{equation}\n",
    "\\frac{dP}{dM}= \\frac{M_0}{M_1}\n",
    "\\end{equation}\n",
    "\n",
    "\\begin{equation}\n",
    "sigma^2(M,z)\n",
    "\\end{equation}\n",
    "\\begin{equation}\n",
    "\\frac{dS}{dM} as a function of M\n",
    "\\end{equation}\n",
    "\\begin{equation}\n",
    "dP/dM_1(z0,z1,M0,M1)\n",
    "\\end{equation}\n",
    "\\begin{equation}\n",
    "\\int dP/dM_1 dM_1 = 1.0\n",
    "\\end{equation}"
   ]
  },
  {
   "cell_type": "markdown",
   "metadata": {},
   "source": [
    "# Galaxy Formation Section 7.3.4 Halo Assembly and Formation time\n",
    "\n",
    "equation (7.83)\n",
    "\\begin{equation}\n",
    "\\frac{dP}{dM_1}(<t_a|M_0 , t_0)dM_1=\\frac{M_0}{M_1}f_{FU}(S_1 , \\delta_1 | S_0 , \\delta_0) \\left|\\frac{dS_1}{dM_1} \\right|dM_1,\n",
    "\\end{equation}\n",
    "Here, \n",
    "\\begin{equation}\n",
    "f_{FU}(S_1 , \\delta_1 | S_0 , \\delta_0)dS_1=\\frac{1}{\\sqrt{2 \\pi}} \\frac{\\delta_1 -\\delta_0}{(S_1-S_0)^{3/2}}\n",
    "\\exp \\left[-\\frac{(\\delta_1-\\delta_0)^2}{2(S_1 - S_0)} \\right]dS_1.\n",
    "\\end{equation}\n",
    "\n",
    "\n",
    "About $f_{FU}(S_1 , \\delta_1 | S_0 , \\delta_0)$, using $\\delta_1 =\\delta_c z_1$ and $\\delta_0 = \\delta_c z_0$ ,\n",
    "we is given by\n",
    "\n",
    "\n",
    "\\begin{equation}\n",
    "f_{FU}(S_1 , \\delta_1 | S_0 , \\delta_0)dS_1=\\frac{\\delta_c}{\\sqrt{2 \\pi}} \\frac{z_1 -z_0}{(S_1-S_0)^{3/2}}\n",
    "\\exp \\left[-\\frac{\\delta_c^2(z_1-z_0)^2}{2(S_1 - S_0)} \\right]dS_1,\n",
    "\\end{equation}\n",
    "where the criteria for collapse $\\delta_c=1.686$.\n",
    "\n",
    "# memo\n",
    "\\begin{equation}\n",
    "\\left|\\frac{dS(M)}{dM} \\right|=\\frac{\\alpha}{M} S(M)\n",
    "\\end{equation}"
   ]
  },
  {
   "cell_type": "code",
   "execution_count": 34,
   "metadata": {},
   "outputs": [],
   "source": [
    "#make the function which calculate the f_{FU}.\n",
    "# z0:parent halo redshift M0: parent halo mass\n",
    "# z1:progenitor halo redshift M1:main progenitor halo mass\n",
    "def ffu(z0,z1,M0,M1):\n",
    "    deltac=1.686\n",
    "    #introduce the mass variance square\n",
    "    vari0=varipsapproximate(M0,z0)\n",
    "    vari1=varipsapproximate(M1,z1)\n",
    "    #vari0=varips(M0,z0)\n",
    "    #vari1=varips(M1,z1)\n",
    "    # calculate ffu\n",
    "    coefficientterm=deltac*(z1-z0)/(np.sqrt(2*np.pi)*(abs(vari1-vari0))**(1.5))\n",
    "    expterm=np.exp(-(deltac*(z1-z0))**2/(2*(vari1-vari0)))\n",
    "    ffuterm=coefficientterm*expterm\n",
    "    #print(coefficientterm,expterm)\n",
    "    return ffuterm#,coefficientterm,expterm,ffuterm\n",
    "#Under the t=t_0 and M=M_0, the probability on M=M_1.\n",
    "#make the function which calculate the dP/dM_1.\n",
    "def dpdm1(z0,z1,M0,M1):\n",
    "    #calculate the diffrential term (accuracy level 0.001)\n",
    "    #D=M1*1e-10\n",
    "    #diffdSdM=abs(varips(M1-D,z1)-varips(M1,z1))/D\n",
    "    diffdSdM=varipsapproximatediffM(M1,z1)\n",
    "    dpdm= ffu(z0,z1,M0,M1) * diffdSdM\n",
    "    #print(ffu(z0,z1,M0,M1),diffdSdM)\n",
    "    return dpdm"
   ]
  },
  {
   "cell_type": "code",
   "execution_count": 35,
   "metadata": {},
   "outputs": [],
   "source": [
    "def Mmax(z0,z1,M0):\n",
    "    Mmax=((1+z1)/(1+z0))**(-6)*M0\n",
    "    return Mmax"
   ]
  },
  {
   "cell_type": "code",
   "execution_count": 36,
   "metadata": {},
   "outputs": [
    {
     "data": {
      "text/plain": [
       "(10000000000000.0, 100000000000000.0)"
      ]
     },
     "execution_count": 36,
     "metadata": {},
     "output_type": "execute_result"
    },
    {
     "data": {
      "image/png": "[encoded data removed]",
      "text/plain": [
       "<Figure size 432x288 with 1 Axes>"
      ]
     },
     "metadata": {
      "needs_background": "light"
     },
     "output_type": "display_data"
    }
   ],
   "source": [
    "M0=1e15\n",
    "#M1=np.logspace(np.log10(M0*(((1+2)/(1+0))**(-2/0.333))),np.log10(M0),100)\n",
    "M1=np.logspace(np.log10(1e12),np.log10(M0),100)\n",
    "#M0=1e13\n",
    "#plt.loglog(M1,integrate.cumtrapz(dpdm1(0,1,M0,M1),M1))\n",
    "#plt.loglog(M1,ffu(0,1,M0,M1))\n",
    "plt.loglog(M1,dpdm1(0,1,M0,M1))\n",
    "plt.axvline(x=Mmax(0,1,1e15),color='red')\n",
    "plt.xlim(1e13,1e14)\n",
    "#plt.semilogx(M1,ffu(0,0.2,M0,M1)[1])\n",
    "#plt.semilogx(M1,ffu(0,0.2,M0,M1)[2])\n",
    "#plt.semilogx(M1[0:-1],integrate.cumtrapz(ffu(0,0.2,M0,M1),M1))"
   ]
  },
  {
   "cell_type": "code",
   "execution_count": 70,
   "metadata": {},
   "outputs": [],
   "source": [
    "#under the probability of EPS formalism, generateing the random mass numbers.\n",
    "#Please assign the mass binnumber.\n",
    "def EPSrandommass(z0,z1,M0,binnumber):\n",
    "    #Main proginitor need to be bigger than any other halo mass.\n",
    "    #Therefore, M_p > M_0/2\n",
    "    Ms=((1+z1)/(1+z0))**(-2/0.33)*M0\n",
    "    #print(Ms)\n",
    "    #M1=np.linspace(1e10,Ms[0],binnumber)\n",
    "    M1=np.logspace(np.log10(Ms/8),np.log10(Ms),binnumber)\n",
    "    #M1=np.linspace(Ms/2,Ms,binnumber)\n",
    "    #M1=np.logspace(np.log10(1e13),np.log10(Ms[0]),binnumber)\n",
    "    #set the probability function\n",
    "    dpdm=dpdm1(z0,z1,M0,M1)\n",
    "    #generate the EPSrandommass\n",
    "    Mg=random.choices(M1, weights=dpdm)\n",
    "    return Mg"
   ]
  },
  {
   "cell_type": "code",
   "execution_count": 71,
   "metadata": {},
   "outputs": [
    {
     "name": "stdout",
     "output_type": "stream",
     "text": [
      "[487490696638989.94] [477358006170520.5]\n"
     ]
    }
   ],
   "source": [
    "print(EPSrandommass(0,0.08,1e15,100),EPSrandommass(0,0.08,1e15,100))"
   ]
  },
  {
   "cell_type": "code",
   "execution_count": 72,
   "metadata": {},
   "outputs": [
    {
     "name": "stdout",
     "output_type": "stream",
     "text": [
      "(10000,)\n"
     ]
    }
   ],
   "source": [
    "M0=np.zeros(10000)\n",
    "print(M0.shape)\n",
    "for i,M00 in enumerate(M0):\n",
    "    M0[i]=EPSrandommass(0,0.02,0.45e8,100)[0]"
   ]
  },
  {
   "cell_type": "code",
   "execution_count": 76,
   "metadata": {},
   "outputs": [
    {
     "data": {
      "text/plain": [
       "[<matplotlib.lines.Line2D at 0x1225b3908>]"
      ]
     },
     "execution_count": 76,
     "metadata": {},
     "output_type": "execute_result"
    },
    {
     "data": {
      "image/png": "[encoded data removed]",
      "text/plain": [
       "<Figure size 432x288 with 1 Axes>"
      ]
     },
     "metadata": {
      "needs_background": "light"
     },
     "output_type": "display_data"
    }
   ],
   "source": [
    "plt.hist(M0,log=True,bins=40)\n",
    "plt.xscale('log')\n",
    "M1=np.logspace(np.log10(5*1e6),np.log10(4*1e7),1000)\n",
    "plt.loglog(M1,dpdm1(0,0.02,np.array([0.45e8]),M1)*1e10)"
   ]
  },
  {
   "cell_type": "code",
   "execution_count": null,
   "metadata": {},
   "outputs": [],
   "source": []
  },
  {
   "cell_type": "code",
   "execution_count": 77,
   "metadata": {},
   "outputs": [],
   "source": [
    "def mergertree(Minitial,Mmin,zstart,zlast,dw):\n",
    "    #define the time interval\n",
    "    deltac=1.686\n",
    "    #tstart=z_to_t(zstart)\n",
    "    #tlast=z_to_t(zlast)\n",
    "    #print(tstart,tlast)\n",
    "    numbinz = int((deltac/dw)*(zlast-zstart))\n",
    "    #numbint = int((deltac/dw)*(tstart-tlast))\n",
    "    z=np.linspace(zstart,zlast,numbinz)\n",
    "    #t=np.linspace(tlast,tstart,numbint)\n",
    "    Mleft=Minitial\n",
    "    Np=0\n",
    "    #Mp=Mleft * random.random()\n",
    "    #make the array\n",
    "    Mplist=np.array(Minitial)\n",
    "    zlist=np.array(z[0])\n",
    "    #tlist=np.array(t[0])\n",
    "    #assign the mass under the probability of EPS.\n",
    "    Mp=EPSrandommass(z[0],z[1],Mleft,100)[0]\n",
    "    #Mp=EPSrandommass(t[0],t[1],Mleft,100)[0]\n",
    "    while (max(Mleft,Mp) >= Mmin):\n",
    "    #for Np in range(len(z)-1):\n",
    "        #Mleft=np.random.choice([Mleft,Mp])\n",
    "        Mleft=max([Mleft,Mp])\n",
    "        Mp= EPSrandommass(z[Np],z[Np+1],Mleft,100)[0]\n",
    "        #Mp= EPSrandommass(t[Np],t[Np+1],Mleft,100)[0]\n",
    "        Mleft=Mleft-Mp\n",
    "        #print(\"Mp:%e,Mleft:%e\"%(Mp,Mleft))\n",
    "        Mplist=np.append(Mplist,Mp)\n",
    "        zlist=np.append(zlist,z[Np+1])\n",
    "        #tlist=np.append(tlist,z[Np+1])\n",
    "        if (max(Mp,Mleft) > Mmin):\n",
    "            if (min(Mp,Mleft)>Mmin):\n",
    "                Np = Np + 1\n",
    "                #print(Np)\n",
    "                continue\n",
    "            continue\n",
    "        else:\n",
    "            #print(\"last result Mp:%f,Mleft:%f\"%(Mp,Mleft))\n",
    "            Mleft=max(Mp,Mleft)\n",
    "            break\n",
    "    #print(\"z:%d\"%len(z))\n",
    "    return Np+1,Mleft,Mp,Mplist,zlist"
   ]
  },
  {
   "cell_type": "code",
   "execution_count": 78,
   "metadata": {},
   "outputs": [
    {
     "name": "stdout",
     "output_type": "stream",
     "text": [
      "Npr:56,Mplast:9.623843e+09,Macc:9.623843e+09\n",
      "lastMleft:1.924769e+10\n"
     ]
    }
   ],
   "source": [
    "Npr,Mplast,Macc,Mplist,zlist=mergertree(5*1e12,1e10,0,1,0.02)\n",
    "print(\"Npr:%d,Mplast:%e,Macc:%e\"%(Npr,Mplast,Macc))\n",
    "Mleft=Mplast+Macc\n",
    "print(\"lastMleft:%e\"%Mleft)"
   ]
  },
  {
   "cell_type": "code",
   "execution_count": 79,
   "metadata": {},
   "outputs": [],
   "source": [
    "#zlist"
   ]
  },
  {
   "cell_type": "code",
   "execution_count": 82,
   "metadata": {},
   "outputs": [],
   "source": [
    "for i in range(10):\n",
    "    exec(\"Npr%s,Mplast%s,Macc%s,Mplist%s,zlist%s=mergertree(5*1e12,1e10,0,1,0.02)\"%(i,i,i,i,i))"
   ]
  },
  {
   "cell_type": "code",
   "execution_count": null,
   "metadata": {},
   "outputs": [],
   "source": []
  },
  {
   "cell_type": "code",
   "execution_count": 83,
   "metadata": {},
   "outputs": [
    {
     "data": {
      "text/plain": [
       "Text(0, 0.5, '$M / M_0$')"
      ]
     },
     "execution_count": 83,
     "metadata": {},
     "output_type": "execute_result"
    },
    {
     "data": {
      "image/png": "[encoded data removed]",
      "text/plain": [
       "<Figure size 432x288 with 1 Axes>"
      ]
     },
     "metadata": {
      "needs_background": "light"
     },
     "output_type": "display_data"
    }
   ],
   "source": [
    "for i in range(10):\n",
    "    #exec(\"t%s=np.linspace(1,(1.0-(len(Mplist%s)/168600)),len(Mplist%s))\"%(i,i,i))\n",
    "    exec(\"plt.plot(2/(3*cn.H0*np.sqrt(cn.om))*(1+zlist%s)**(-3/2)/(5.5*1e17),Mplist%s/(5*1e12))\"%(i,i))\n",
    "#plt.plot(Mplist1/1e15)\n",
    "#plt.plot(Mplist2/1e15)\n",
    "#plt.plot(Mplist3/1e15)\n",
    "#plt.plot(Mplist4/1e15)\n",
    "plt.xlabel(r'$t / t_0$',size=15)\n",
    "plt.ylabel(r'$M / M_0$',size=15)\n",
    "#plt.xlim(0.95,1)"
   ]
  },
  {
   "cell_type": "code",
   "execution_count": null,
   "metadata": {},
   "outputs": [],
   "source": []
  },
  {
   "cell_type": "code",
   "execution_count": null,
   "metadata": {},
   "outputs": [],
   "source": []
  }
 ],
 "metadata": {
  "kernelspec": {
   "display_name": "Python 3",
   "language": "python",
   "name": "python3"
  },
  "language_info": {
   "codemirror_mode": {
    "name": "ipython",
    "version": 3
   },
   "file_extension": ".py",
   "mimetype": "text/x-python",
   "name": "python",
   "nbconvert_exporter": "python",
   "pygments_lexer": "ipython3",
   "version": "3.7.3"
  }
 },
 "nbformat": 4,
 "nbformat_minor": 2
}
